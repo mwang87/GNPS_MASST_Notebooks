{
 "cells": [
  {
   "cell_type": "code",
   "execution_count": 2,
   "metadata": {},
   "outputs": [],
   "source": [
    "import requests\n",
    "import pandas as pd\n",
    "import networkx as nx"
   ]
  },
  {
   "cell_type": "code",
   "execution_count": 3,
   "metadata": {},
   "outputs": [],
   "source": [
    "MASST_TASK = \"c6b2797224f34d819d20dd7af622bc6b\""
   ]
  },
  {
   "cell_type": "code",
   "execution_count": 4,
   "metadata": {},
   "outputs": [],
   "source": [
    "# Loading MASST information\n",
    "\n",
    "spectra_matches_df = pd.read_csv(\"https://gnps.ucsd.edu/ProteoSAFe/DownloadResultFile?task={}&file=all_dataset_spectra_matches/&block=main\".format(MASST_TASK), sep=\"\\t\")"
   ]
  },
  {
   "cell_type": "code",
   "execution_count": 11,
   "metadata": {},
   "outputs": [
    {
     "ename": "TypeError",
     "evalue": "string indices must be integers",
     "output_type": "error",
     "traceback": [
      "\u001b[0;31m---------------------------------------------------------------------------\u001b[0m",
      "\u001b[0;31mTypeError\u001b[0m                                 Traceback (most recent call last)",
      "\u001b[0;32m<ipython-input-11-091164accd47>\u001b[0m in \u001b[0;36m<module>\u001b[0;34m\u001b[0m\n\u001b[1;32m      3\u001b[0m \u001b[0;34m\u001b[0m\u001b[0m\n\u001b[1;32m      4\u001b[0m \u001b[0;32mfor\u001b[0m \u001b[0mdataset\u001b[0m \u001b[0;32min\u001b[0m \u001b[0mdataset_matches\u001b[0m\u001b[0;34m:\u001b[0m\u001b[0;34m\u001b[0m\u001b[0;34m\u001b[0m\u001b[0m\n\u001b[0;32m----> 5\u001b[0;31m     \u001b[0mfiltered_dataset\u001b[0m \u001b[0;34m=\u001b[0m \u001b[0;34m[\u001b[0m\u001b[0mdataset\u001b[0m \u001b[0;32mfor\u001b[0m \u001b[0mdatatset\u001b[0m \u001b[0;32min\u001b[0m \u001b[0mall_datasets\u001b[0m \u001b[0;32mif\u001b[0m \u001b[0mdataset\u001b[0m\u001b[0;34m[\u001b[0m\u001b[0;34m\"dataset\"\u001b[0m\u001b[0;34m]\u001b[0m \u001b[0;34m==\u001b[0m \u001b[0mdataset\u001b[0m\u001b[0;34m]\u001b[0m\u001b[0;34m\u001b[0m\u001b[0;34m\u001b[0m\u001b[0m\n\u001b[0m\u001b[1;32m      6\u001b[0m     \u001b[0mprint\u001b[0m\u001b[0;34m(\u001b[0m\u001b[0mfiltered_dataset\u001b[0m\u001b[0;34m)\u001b[0m\u001b[0;34m\u001b[0m\u001b[0;34m\u001b[0m\u001b[0m\n",
      "\u001b[0;32m<ipython-input-11-091164accd47>\u001b[0m in \u001b[0;36m<listcomp>\u001b[0;34m(.0)\u001b[0m\n\u001b[1;32m      3\u001b[0m \u001b[0;34m\u001b[0m\u001b[0m\n\u001b[1;32m      4\u001b[0m \u001b[0;32mfor\u001b[0m \u001b[0mdataset\u001b[0m \u001b[0;32min\u001b[0m \u001b[0mdataset_matches\u001b[0m\u001b[0;34m:\u001b[0m\u001b[0;34m\u001b[0m\u001b[0;34m\u001b[0m\u001b[0m\n\u001b[0;32m----> 5\u001b[0;31m     \u001b[0mfiltered_dataset\u001b[0m \u001b[0;34m=\u001b[0m \u001b[0;34m[\u001b[0m\u001b[0mdataset\u001b[0m \u001b[0;32mfor\u001b[0m \u001b[0mdatatset\u001b[0m \u001b[0;32min\u001b[0m \u001b[0mall_datasets\u001b[0m \u001b[0;32mif\u001b[0m \u001b[0mdataset\u001b[0m\u001b[0;34m[\u001b[0m\u001b[0;34m\"dataset\"\u001b[0m\u001b[0;34m]\u001b[0m \u001b[0;34m==\u001b[0m \u001b[0mdataset\u001b[0m\u001b[0;34m]\u001b[0m\u001b[0;34m\u001b[0m\u001b[0;34m\u001b[0m\u001b[0m\n\u001b[0m\u001b[1;32m      6\u001b[0m     \u001b[0mprint\u001b[0m\u001b[0;34m(\u001b[0m\u001b[0mfiltered_dataset\u001b[0m\u001b[0;34m)\u001b[0m\u001b[0;34m\u001b[0m\u001b[0;34m\u001b[0m\u001b[0m\n",
      "\u001b[0;31mTypeError\u001b[0m: string indices must be integers"
     ]
    }
   ],
   "source": [
    "dataset_matches = list(set(spectra_matches_df[\"dataset_id\"]))\n",
    "all_datasets = requests.get(\"https://massive.ucsd.edu/ProteoSAFe/datasets_json.jsp#%7B%22query%22%3A%7B%7D%2C%22table_sort_history%22%3A%22createdMillis_dsc%22%7D\").json()[\"datasets\"]\n",
    "\n"
   ]
  },
  {
   "cell_type": "code",
   "execution_count": 22,
   "metadata": {},
   "outputs": [
    {
     "name": "stdout",
     "output_type": "stream",
     "text": [
      "MSV000078937\n",
      "0e53b01a394743c191b516bf2cb96cc5\n",
      "{'task': 'f402f6e04c8643a5be7b2c1461305c0c', 'workflowname': 'MOLECULAR-CONTINUOUS-ID', 'dataset_id': '78937', 'timestamp': '2020-10-06 12:45:44.0', 'reported': '1', 'jobstatus': 'DONE', 'execution_site': 'GNPS'}\n",
      "MSV000078552\n",
      "43cbb6fe127c4c4783e80207ac8a153a\n",
      "{'task': 'cfdeb85f36474491a2b4304449271d17', 'workflowname': 'MOLECULAR-CONTINUOUS-ID', 'dataset_id': '78552', 'timestamp': '2020-10-06 13:14:24.0', 'reported': '1', 'jobstatus': 'DONE', 'execution_site': 'GNPS'}\n",
      "MSV000079450\n",
      "5728ca4b0dfd4c058e0ef6151a31f9c4\n",
      "{'task': 'b70ed44a98674a5ea162e406f1d9d161', 'workflowname': 'MOLECULAR-CONTINUOUS-ID', 'dataset_id': '79450', 'timestamp': '2020-10-06 12:32:49.0', 'reported': '1', 'jobstatus': 'DONE', 'execution_site': 'GNPS'}\n",
      "MSV000078547\n",
      "ee21d1b9bca04a908d231e4048e6a14a\n",
      "{'task': 'eb849be139124d368f27e15cb3c204d0', 'workflowname': 'MOLECULAR-CONTINUOUS-ID', 'dataset_id': '78547', 'timestamp': '2020-10-06 13:14:55.0', 'reported': '1', 'jobstatus': 'DONE', 'execution_site': 'GNPS'}\n",
      "MSV000078602\n",
      "c2e37e1ae4354a78b4e145f55a9ae023\n",
      "{'task': 'f1259022e3774132a3a114fbb5a4f200', 'workflowname': 'MOLECULAR-CONTINUOUS-ID', 'dataset_id': '78602', 'timestamp': '2020-10-06 13:10:24.0', 'reported': '1', 'jobstatus': 'DONE', 'execution_site': 'GNPS'}\n",
      "MSV000078709\n",
      "ed1efce238094699adbec8e068b694a6\n",
      "{'task': '2fca527a123f4599b43a20dcad3e5897', 'workflowname': 'MOLECULAR-CONTINUOUS-ID', 'dataset_id': '78709', 'timestamp': '2020-10-06 12:57:47.0', 'reported': '0', 'jobstatus': 'DONE', 'execution_site': 'GNPS'}\n",
      "MSV000078635\n",
      "deda27eafe134478977c3d2f568089a6\n",
      "{'task': '4f41236810884b63ad9588fb52cbc12c', 'workflowname': 'MOLECULAR-CONTINUOUS-ID', 'dataset_id': '78635', 'timestamp': '2020-10-06 13:07:18.0', 'reported': '1', 'jobstatus': 'DONE', 'execution_site': 'GNPS'}\n",
      "MSV000079140\n",
      "8ad30a29f59d40f29eab9b0d53ea9523\n",
      "{'task': '024176615a0f484d883c787ccdc40ea5', 'workflowname': 'MOLECULAR-CONTINUOUS-ID', 'dataset_id': '79140', 'timestamp': '2020-10-06 12:38:49.0', 'reported': '1', 'jobstatus': 'DONE', 'execution_site': 'GNPS'}\n"
     ]
    }
   ],
   "source": [
    "for dataset in dataset_matches:\n",
    "    print(dataset)\n",
    "    filtered_dataset = [current_dataset for current_dataset in all_datasets if current_dataset[\"dataset\"] == dataset]\n",
    "    dataset_task = filtered_dataset[0][\"task\"]\n",
    "    print(dataset_task)\n",
    "    continuous_id = requests.get(\"http://gnps.ucsd.edu/ProteoSAFe/ContinuousIDServlet?task={}\".format(dataset_task)).json()\n",
    "    print(continuous_id[\"jobs\"][0])\n",
    "    \n",
    "    \"https://gnps.ucsd.edu/ProteoSAFe/result.jsp?task={}&view=clusters_network_pairs\".format(continuous_id[\"jobs\"][0])"
   ]
  },
  {
   "cell_type": "code",
   "execution_count": null,
   "metadata": {},
   "outputs": [],
   "source": []
  },
  {
   "cell_type": "code",
   "execution_count": 9,
   "metadata": {},
   "outputs": [],
   "source": []
  },
  {
   "cell_type": "code",
   "execution_count": 10,
   "metadata": {},
   "outputs": [
    {
     "data": {
      "text/plain": [
       "{'dataset': 'MSV000086270',\n",
       " 'datasetNum': '86270',\n",
       " 'title': 'GNPS U19_ADNI_Go2 LCMS Metabolomics Sample Cohort',\n",
       " 'user': 'mjmeehan',\n",
       " 'site': 'MassIVE',\n",
       " 'flowname': 'MASSIVE-COMPLETE',\n",
       " 'createdMillis': '1602520766000',\n",
       " 'created': 'Oct. 12, 2020, 9:39 AM',\n",
       " 'description': 'U19 Metabolomics Samples from the ADNI_Go2 data set run on the Q-Exactive mass spectrometer.',\n",
       " 'fileCount': '2424',\n",
       " 'fileSizeKB': '101239741',\n",
       " 'spectra': '0',\n",
       " 'psms': '0',\n",
       " 'peptides': '0',\n",
       " 'variants': '0',\n",
       " 'proteins': '0',\n",
       " 'search_psms': '0',\n",
       " 'search_peptides': '0',\n",
       " 'search_variants': '0',\n",
       " 'search_proteins': '0',\n",
       " 'search_spectra': '0',\n",
       " 'reanalysis_psms': '0',\n",
       " 'reanalysis_peptides': '0',\n",
       " 'reanalysis_variants': '0',\n",
       " 'reanalysis_proteins': '0',\n",
       " 'species': 'Homo sapiens (NCBITaxon:9606)',\n",
       " 'instrument': 'Q Exactive',\n",
       " 'modification': 'MS:1002864 - No post-translational-modifications are included in the identified peptides of this dataset',\n",
       " 'keywords': 'ADNI-GO2',\n",
       " 'pi': [{'name': 'Pieter C Dorrestein',\n",
       "   'email': 'pdorrestein@ucsd.edu',\n",
       "   'institution': 'University of California at San Diego',\n",
       "   'country': 'USA'}],\n",
       " 'complete': 'false',\n",
       " 'quant_analysis': 'null',\n",
       " 'status': 'Partial',\n",
       " 'private': 'false',\n",
       " 'hash': '',\n",
       " 'px': '',\n",
       " 'task': '77b6573a8472464aa81ac370c6c3ed73',\n",
       " 'id': '0'}"
      ]
     },
     "execution_count": 10,
     "metadata": {},
     "output_type": "execute_result"
    }
   ],
   "source": [
    "all_datasets[0]"
   ]
  },
  {
   "cell_type": "code",
   "execution_count": null,
   "metadata": {},
   "outputs": [],
   "source": []
  }
 ],
 "metadata": {
  "kernelspec": {
   "display_name": "Python 3",
   "language": "python",
   "name": "python3"
  },
  "language_info": {
   "codemirror_mode": {
    "name": "ipython",
    "version": 3
   },
   "file_extension": ".py",
   "mimetype": "text/x-python",
   "name": "python",
   "nbconvert_exporter": "python",
   "pygments_lexer": "ipython3",
   "version": "3.8.2"
  }
 },
 "nbformat": 4,
 "nbformat_minor": 4
}
