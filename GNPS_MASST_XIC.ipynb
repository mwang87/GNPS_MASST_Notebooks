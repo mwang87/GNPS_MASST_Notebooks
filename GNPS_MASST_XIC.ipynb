{
 "cells": [
  {
   "cell_type": "code",
   "execution_count": 19,
   "metadata": {},
   "outputs": [],
   "source": [
    "import requests\n",
    "import pandas as pd\n",
    "import pymzml\n",
    "import os\n",
    "import shutil\n",
    "import urllib.request as request\n",
    "from contextlib import closing"
   ]
  },
  {
   "cell_type": "code",
   "execution_count": 20,
   "metadata": {},
   "outputs": [],
   "source": [
    "def process_masst_xic(input_results_df):\n",
    "    ms2_records = input_results_df.to_dict(orient=\"records\")\n",
    "    for record in ms2_records:\n",
    "        # Making data file available\n",
    "        ftp_url = \"ftp://massive.ucsd.edu/\" + record[\"filename\"][2:]\n",
    "        local_filename = os.path.basename(record[\"filename\"])\n",
    "        with closing(request.urlopen(ftp_url)) as r:\n",
    "            with open(local_filename, 'wb') as f:\n",
    "                shutil.copyfileobj(r, f)\n",
    "\n",
    "        # Finding the scan\n",
    "        run = pymzml.run.Reader(local_filename)\n",
    "\n",
    "        target_scan = record[\"filescan\"]\n",
    "        for spectrum in run:\n",
    "            if str(spectrum.ID) == str(target_scan):\n",
    "                selected_precursors = spectrum.selected_precursors\n",
    "                precursor_dict = selected_precursors[0]\n",
    "                precursor_mz = precursor_dict[\"mz\"]\n",
    "                precursor_i = precursor_dict[\"i\"]\n",
    "\n",
    "                record[\"precursor_mz\"] = precursor_mz\n",
    "                record[\"precursor_i\"] = precursor_i\n",
    "                record[\"rt\"] = spectrum.scan_time_in_minutes()        \n",
    "\n",
    "        # Perform XIC\n",
    "        target_mz = record[\"precursor_mz\"]\n",
    "        lower_rt = record[\"rt\"] - 0.1\n",
    "        upper_rt = record[\"rt\"] + 0.1\n",
    "        run = pymzml.run.Reader(local_filename, MS_precisions={1 : 5e-6, 2 : 20e-6})\n",
    "        time_dependent_intensities = []\n",
    "\n",
    "        for spectrum in run:\n",
    "            spectrum_rt = float(spectrum.scan_time_in_minutes())\n",
    "            if spectrum_rt < lower_rt or spectrum_rt > upper_rt:\n",
    "                continue\n",
    "            \n",
    "            if spectrum.ms_level == 1:\n",
    "                has_peak_matches = spectrum.has_peak(target_mz)\n",
    "                if has_peak_matches != []:\n",
    "                    for mz, I in has_peak_matches:\n",
    "                        time_dependent_intensities.append(\n",
    "                            [spectrum.scan_time_in_minutes(), I, mz]\n",
    "                        )\n",
    "\n",
    "        intensity = sum([peak[2] for peak in time_dependent_intensities])\n",
    "        record[\"xic_sum\"] = (intensity)\n",
    "\n",
    "        print(record)\n",
    "\n",
    "        os.remove(local_filename)\n",
    "\n",
    "    return pd.DataFrame(ms2_records)"
   ]
  },
  {
   "cell_type": "code",
   "execution_count": 21,
   "metadata": {},
   "outputs": [],
   "source": [
    "### Attention, change this Task ID to your job!\n",
    "\n",
    "GNPS_MASST_job = \"7e9615544d1441319ab525930ebf40cd\""
   ]
  },
  {
   "cell_type": "code",
   "execution_count": 22,
   "metadata": {},
   "outputs": [],
   "source": [
    "# Downloading Data. Data will appear in specs_ms.mgf file\n",
    "masst_data_url = \"https://gnps.ucsd.edu/ProteoSAFe/DownloadResultFile?task={}&block=main&file=all_dataset_spectra_matches/\".format(GNPS_MASST_job)\n",
    "df = pd.read_csv(masst_data_url, sep=\"\\t\")"
   ]
  },
  {
   "cell_type": "code",
   "execution_count": 23,
   "metadata": {},
   "outputs": [
    {
     "name": "stdout",
     "output_type": "stream",
     "text": [
      "{'cluster_scan': 132950, 'dataset_id': 'MSV000082074', 'filename': 'f.MSV000082074/ccms_peak/Samples/G74022_5x_BG11_01_18395.mzML', 'filescan': 570, 'metadata': ' ', 'precursor_mz': 741.23959635, 'precursor_i': 3067.0, 'rt': 2.59645, 'xic_sum': 2964.95361328125}\n",
      "{'cluster_scan': 132950, 'dataset_id': 'MSV000082074', 'filename': 'f.MSV000082074/ccms_peak/Samples/G74022_5x_BG11_01_18395.mzML', 'filescan': 574, 'metadata': ' ', 'precursor_mz': 741.23606441, 'precursor_i': 4021.0, 'rt': 2.615283333333333, 'xic_sum': 3706.1810302734375}\n",
      "{'cluster_scan': 300, 'dataset_id': 'MSV000084237', 'filename': 'f.MSV000084237/ccms_peak/Raw/std_mix2_4.mzML', 'filescan': 938, 'metadata': ' ', 'precursor_mz': 741.241656539386, 'precursor_i': 2024564.875, 'rt': 1.6918989, 'xic_sum': 27425.880004882812}\n",
      "{'cluster_scan': 300, 'dataset_id': 'MSV000084237', 'filename': 'f.MSV000084237/ccms_peak/Raw/std_mix2_4.mzML', 'filescan': 941, 'metadata': ' ', 'precursor_mz': 741.237789504636, 'precursor_i': 2411160.5, 'rt': 1.6985719, 'xic_sum': 48180.45867919922}\n",
      "{'cluster_scan': 300, 'dataset_id': 'MSV000084237', 'filename': 'f.MSV000084237/ccms_peak/Raw/std_mix2_4.mzML', 'filescan': 947, 'metadata': ' ', 'precursor_mz': 741.234454313461, 'precursor_i': 2299336.75, 'rt': 1.7104425, 'xic_sum': 31873.180541992188}\n",
      "{'cluster_scan': 300, 'dataset_id': 'MSV000084237', 'filename': 'f.MSV000084237/ccms_peak/Raw/std_mix3_Fe_conc46_1_long.mzML', 'filescan': 840, 'metadata': ' ', 'precursor_mz': 741.236986566861, 'precursor_i': 1846541.25, 'rt': 2.0864885, 'xic_sum': 33355.671630859375}\n"
     ]
    },
    {
     "name": "stderr",
     "output_type": "stream",
     "text": [
      "Exception ignored in: <function Spectrum.__del__ at 0x7fccfaee73a0>\n",
      "Traceback (most recent call last):\n",
      "  File \"/home/mingxun/miniconda3/envs/jupyterlab/lib/python3.8/site-packages/pymzml/spec.py\", line 469, in __del__\n",
      "    def __del__(self):\n",
      "KeyboardInterrupt: \n"
     ]
    },
    {
     "name": "stdout",
     "output_type": "stream",
     "text": [
      "{'cluster_scan': 18313, 'dataset_id': 'MSV000081936', 'filename': 'f.MSV000081936/ccms_peak/animal/G74022_5x_BG11_01_18395.mzML', 'filescan': 570, 'metadata': ' ', 'precursor_mz': 741.23959635, 'precursor_i': 3067.0, 'rt': 2.59645, 'xic_sum': 2964.95361328125}\n",
      "{'cluster_scan': 18313, 'dataset_id': 'MSV000081936', 'filename': 'f.MSV000081936/ccms_peak/animal/G74022_5x_BG11_01_18395.mzML', 'filescan': 574, 'metadata': ' ', 'precursor_mz': 741.23606441, 'precursor_i': 4021.0, 'rt': 2.615283333333333, 'xic_sum': 3706.1810302734375}\n",
      "{'cluster_scan': 295334, 'dataset_id': 'MSV000084900', 'filename': 'f.MSV000084900/ccms_peak/Global_Foodomics_composite_data_2020/MSV000083010_core/G74022_5x_BG11_01_18395.mzML', 'filescan': 570, 'metadata': ' ', 'precursor_mz': 741.23959635, 'precursor_i': 3067.0, 'rt': 2.59645, 'xic_sum': 2964.95361328125}\n",
      "{'cluster_scan': 295334, 'dataset_id': 'MSV000084900', 'filename': 'f.MSV000084900/ccms_peak/Global_Foodomics_composite_data_2020/MSV000083010_core/G74022_5x_BG11_01_18395.mzML', 'filescan': 574, 'metadata': ' ', 'precursor_mz': 741.23606441, 'precursor_i': 4021.0, 'rt': 2.615283333333333, 'xic_sum': 3706.1810302734375}\n"
     ]
    },
    {
     "ename": "KeyboardInterrupt",
     "evalue": "",
     "output_type": "error",
     "traceback": [
      "\u001b[0;31m---------------------------------------------------------------------------\u001b[0m",
      "\u001b[0;31mKeyboardInterrupt\u001b[0m                         Traceback (most recent call last)",
      "\u001b[0;32m<ipython-input-23-074952436902>\u001b[0m in \u001b[0;36m<module>\u001b[0;34m\u001b[0m\n\u001b[1;32m      1\u001b[0m \u001b[0;31m# Do stuff with it\u001b[0m\u001b[0;34m\u001b[0m\u001b[0;34m\u001b[0m\u001b[0;34m\u001b[0m\u001b[0m\n\u001b[1;32m      2\u001b[0m \u001b[0;34m\u001b[0m\u001b[0m\n\u001b[0;32m----> 3\u001b[0;31m \u001b[0menriched_df\u001b[0m \u001b[0;34m=\u001b[0m \u001b[0mprocess_masst_xic\u001b[0m\u001b[0;34m(\u001b[0m\u001b[0mdf\u001b[0m\u001b[0;34m)\u001b[0m\u001b[0;34m\u001b[0m\u001b[0;34m\u001b[0m\u001b[0m\n\u001b[0m\u001b[1;32m      4\u001b[0m \u001b[0menriched_df\u001b[0m\u001b[0;34m.\u001b[0m\u001b[0mto_csv\u001b[0m\u001b[0;34m(\u001b[0m\u001b[0;34m\"masst_xic.tsv\"\u001b[0m\u001b[0;34m,\u001b[0m \u001b[0msep\u001b[0m\u001b[0;34m=\u001b[0m\u001b[0;34m\"\\t\"\u001b[0m\u001b[0;34m,\u001b[0m \u001b[0mindex\u001b[0m\u001b[0;34m=\u001b[0m\u001b[0;32mFalse\u001b[0m\u001b[0;34m)\u001b[0m\u001b[0;34m\u001b[0m\u001b[0;34m\u001b[0m\u001b[0m\n",
      "\u001b[0;32m<ipython-input-20-3f93897a3763>\u001b[0m in \u001b[0;36mprocess_masst_xic\u001b[0;34m(input_results_df)\u001b[0m\n\u001b[1;32m     31\u001b[0m         \u001b[0mtime_dependent_intensities\u001b[0m \u001b[0;34m=\u001b[0m \u001b[0;34m[\u001b[0m\u001b[0;34m]\u001b[0m\u001b[0;34m\u001b[0m\u001b[0;34m\u001b[0m\u001b[0m\n\u001b[1;32m     32\u001b[0m \u001b[0;34m\u001b[0m\u001b[0m\n\u001b[0;32m---> 33\u001b[0;31m         \u001b[0;32mfor\u001b[0m \u001b[0mspectrum\u001b[0m \u001b[0;32min\u001b[0m \u001b[0mrun\u001b[0m\u001b[0;34m:\u001b[0m\u001b[0;34m\u001b[0m\u001b[0;34m\u001b[0m\u001b[0m\n\u001b[0m\u001b[1;32m     34\u001b[0m             \u001b[0mspectrum_rt\u001b[0m \u001b[0;34m=\u001b[0m \u001b[0mfloat\u001b[0m\u001b[0;34m(\u001b[0m\u001b[0mspectrum\u001b[0m\u001b[0;34m.\u001b[0m\u001b[0mscan_time_in_minutes\u001b[0m\u001b[0;34m(\u001b[0m\u001b[0;34m)\u001b[0m\u001b[0;34m)\u001b[0m\u001b[0;34m\u001b[0m\u001b[0;34m\u001b[0m\u001b[0m\n\u001b[1;32m     35\u001b[0m             \u001b[0;32mif\u001b[0m \u001b[0mspectrum_rt\u001b[0m \u001b[0;34m<\u001b[0m \u001b[0mlower_rt\u001b[0m \u001b[0;32mor\u001b[0m \u001b[0mspectrum_rt\u001b[0m \u001b[0;34m>\u001b[0m \u001b[0mupper_rt\u001b[0m\u001b[0;34m:\u001b[0m\u001b[0;34m\u001b[0m\u001b[0;34m\u001b[0m\u001b[0m\n",
      "\u001b[0;32m~/miniconda3/envs/jupyterlab/lib/python3.8/site-packages/pymzml/run.py\u001b[0m in \u001b[0;36m__next__\u001b[0;34m(self)\u001b[0m\n\u001b[1;32m    143\u001b[0m         \u001b[0mhas_ref_group\u001b[0m \u001b[0;34m=\u001b[0m \u001b[0mself\u001b[0m\u001b[0;34m.\u001b[0m\u001b[0minfo\u001b[0m\u001b[0;34m.\u001b[0m\u001b[0mget\u001b[0m\u001b[0;34m(\u001b[0m\u001b[0;34m\"referenceable_param_group_list\"\u001b[0m\u001b[0;34m,\u001b[0m \u001b[0;32mFalse\u001b[0m\u001b[0;34m)\u001b[0m\u001b[0;34m\u001b[0m\u001b[0;34m\u001b[0m\u001b[0m\n\u001b[1;32m    144\u001b[0m         \u001b[0;32mwhile\u001b[0m \u001b[0;32mTrue\u001b[0m\u001b[0;34m:\u001b[0m\u001b[0;34m\u001b[0m\u001b[0;34m\u001b[0m\u001b[0m\n\u001b[0;32m--> 145\u001b[0;31m             \u001b[0mevent\u001b[0m\u001b[0;34m,\u001b[0m \u001b[0melement\u001b[0m \u001b[0;34m=\u001b[0m \u001b[0mnext\u001b[0m\u001b[0;34m(\u001b[0m\u001b[0mself\u001b[0m\u001b[0;34m.\u001b[0m\u001b[0miter\u001b[0m\u001b[0;34m,\u001b[0m \u001b[0;34m(\u001b[0m\u001b[0;34m\"END\"\u001b[0m\u001b[0;34m,\u001b[0m \u001b[0;34m\"END\"\u001b[0m\u001b[0;34m)\u001b[0m\u001b[0;34m)\u001b[0m\u001b[0;34m\u001b[0m\u001b[0;34m\u001b[0m\u001b[0m\n\u001b[0m\u001b[1;32m    146\u001b[0m             \u001b[0;32mif\u001b[0m \u001b[0mevent\u001b[0m \u001b[0;34m==\u001b[0m \u001b[0;34m\"end\"\u001b[0m\u001b[0;34m:\u001b[0m\u001b[0;34m\u001b[0m\u001b[0;34m\u001b[0m\u001b[0m\n\u001b[1;32m    147\u001b[0m                 \u001b[0;32mif\u001b[0m \u001b[0melement\u001b[0m\u001b[0;34m.\u001b[0m\u001b[0mtag\u001b[0m\u001b[0;34m.\u001b[0m\u001b[0mendswith\u001b[0m\u001b[0;34m(\u001b[0m\u001b[0;34m\"}spectrum\"\u001b[0m\u001b[0;34m)\u001b[0m\u001b[0;34m:\u001b[0m\u001b[0;34m\u001b[0m\u001b[0;34m\u001b[0m\u001b[0m\n",
      "\u001b[0;32m~/miniconda3/envs/jupyterlab/lib/python3.8/xml/etree/ElementTree.py\u001b[0m in \u001b[0;36miterator\u001b[0;34m()\u001b[0m\n\u001b[1;32m   1230\u001b[0m                 \u001b[0;32mif\u001b[0m \u001b[0;32mnot\u001b[0m \u001b[0mdata\u001b[0m\u001b[0;34m:\u001b[0m\u001b[0;34m\u001b[0m\u001b[0;34m\u001b[0m\u001b[0m\n\u001b[1;32m   1231\u001b[0m                     \u001b[0;32mbreak\u001b[0m\u001b[0;34m\u001b[0m\u001b[0;34m\u001b[0m\u001b[0m\n\u001b[0;32m-> 1232\u001b[0;31m                 \u001b[0mpullparser\u001b[0m\u001b[0;34m.\u001b[0m\u001b[0mfeed\u001b[0m\u001b[0;34m(\u001b[0m\u001b[0mdata\u001b[0m\u001b[0;34m)\u001b[0m\u001b[0;34m\u001b[0m\u001b[0;34m\u001b[0m\u001b[0m\n\u001b[0m\u001b[1;32m   1233\u001b[0m             \u001b[0mroot\u001b[0m \u001b[0;34m=\u001b[0m \u001b[0mpullparser\u001b[0m\u001b[0;34m.\u001b[0m\u001b[0m_close_and_return_root\u001b[0m\u001b[0;34m(\u001b[0m\u001b[0;34m)\u001b[0m\u001b[0;34m\u001b[0m\u001b[0;34m\u001b[0m\u001b[0m\n\u001b[1;32m   1234\u001b[0m             \u001b[0;32myield\u001b[0m \u001b[0;32mfrom\u001b[0m \u001b[0mpullparser\u001b[0m\u001b[0;34m.\u001b[0m\u001b[0mread_events\u001b[0m\u001b[0;34m(\u001b[0m\u001b[0;34m)\u001b[0m\u001b[0;34m\u001b[0m\u001b[0;34m\u001b[0m\u001b[0m\n",
      "\u001b[0;32m~/miniconda3/envs/jupyterlab/lib/python3.8/xml/etree/ElementTree.py\u001b[0m in \u001b[0;36mfeed\u001b[0;34m(self, data)\u001b[0m\n\u001b[1;32m   1272\u001b[0m         \u001b[0;32mif\u001b[0m \u001b[0mdata\u001b[0m\u001b[0;34m:\u001b[0m\u001b[0;34m\u001b[0m\u001b[0;34m\u001b[0m\u001b[0m\n\u001b[1;32m   1273\u001b[0m             \u001b[0;32mtry\u001b[0m\u001b[0;34m:\u001b[0m\u001b[0;34m\u001b[0m\u001b[0;34m\u001b[0m\u001b[0m\n\u001b[0;32m-> 1274\u001b[0;31m                 \u001b[0mself\u001b[0m\u001b[0;34m.\u001b[0m\u001b[0m_parser\u001b[0m\u001b[0;34m.\u001b[0m\u001b[0mfeed\u001b[0m\u001b[0;34m(\u001b[0m\u001b[0mdata\u001b[0m\u001b[0;34m)\u001b[0m\u001b[0;34m\u001b[0m\u001b[0;34m\u001b[0m\u001b[0m\n\u001b[0m\u001b[1;32m   1275\u001b[0m             \u001b[0;32mexcept\u001b[0m \u001b[0mSyntaxError\u001b[0m \u001b[0;32mas\u001b[0m \u001b[0mexc\u001b[0m\u001b[0;34m:\u001b[0m\u001b[0;34m\u001b[0m\u001b[0;34m\u001b[0m\u001b[0m\n\u001b[1;32m   1276\u001b[0m                 \u001b[0mself\u001b[0m\u001b[0;34m.\u001b[0m\u001b[0m_events_queue\u001b[0m\u001b[0;34m.\u001b[0m\u001b[0mappend\u001b[0m\u001b[0;34m(\u001b[0m\u001b[0mexc\u001b[0m\u001b[0;34m)\u001b[0m\u001b[0;34m\u001b[0m\u001b[0;34m\u001b[0m\u001b[0m\n",
      "\u001b[0;31mKeyboardInterrupt\u001b[0m: "
     ]
    }
   ],
   "source": [
    "# Do stuff with it\n",
    "\n",
    "enriched_df = process_masst_xic(df)\n",
    "enriched_df.to_csv(\"masst_xic.tsv\", sep=\"\\t\", index=False)"
   ]
  },
  {
   "cell_type": "code",
   "execution_count": null,
   "metadata": {},
   "outputs": [],
   "source": []
  }
 ],
 "metadata": {
  "kernelspec": {
   "display_name": "Python 3",
   "language": "python",
   "name": "python3"
  },
  "language_info": {
   "codemirror_mode": {
    "name": "ipython",
    "version": 3
   },
   "file_extension": ".py",
   "mimetype": "text/x-python",
   "name": "python",
   "nbconvert_exporter": "python",
   "pygments_lexer": "ipython3",
   "version": "3.8.2"
  }
 },
 "nbformat": 4,
 "nbformat_minor": 4
}
