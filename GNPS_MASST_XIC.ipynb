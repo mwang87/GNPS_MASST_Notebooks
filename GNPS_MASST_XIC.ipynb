{
 "cells": [
  {
   "cell_type": "code",
   "execution_count": 2,
   "metadata": {},
   "outputs": [],
   "source": [
    "import requests"
   ]
  },
  {
   "cell_type": "code",
   "execution_count": 3,
   "metadata": {},
   "outputs": [],
   "source": [
    "### Attention, change this Task ID to your job!\n",
    "\n",
    "GNPS_Deconvolution_Task = \"adf31b8a6f2445c3addc60ceca3f8424\""
   ]
  },
  {
   "cell_type": "code",
   "execution_count": 9,
   "metadata": {},
   "outputs": [],
   "source": [
    "# Downloading Data. Data will appear in specs_ms.mgf file\n",
    "\n",
    "mgf_url = \"https://gnps.ucsd.edu/ProteoSAFe/DownloadResultFile?task={}&block=main&file=clustered_mgf/\".format(GNPS_Deconvolution_Task)\n",
    "r = requests.get(mgf_url)\n",
    "r.raise_for_status()\n",
    "\n",
    "with open(\"specs_ms.mgf\", \"w\") as out_file:\n",
    "    out_file.write(r.text)"
   ]
  },
  {
   "cell_type": "code",
   "execution_count": null,
   "metadata": {},
   "outputs": [],
   "source": [
    "# Do stuff with it\n",
    "\n",
    "# Lorem Ipsum"
   ]
  }
 ],
 "metadata": {
  "kernelspec": {
   "display_name": "Python 3",
   "language": "python",
   "name": "python3"
  },
  "language_info": {
   "codemirror_mode": {
    "name": "ipython",
    "version": 3
   },
   "file_extension": ".py",
   "mimetype": "text/x-python",
   "name": "python",
   "nbconvert_exporter": "python",
   "pygments_lexer": "ipython3",
   "version": "3.7.6"
  }
 },
 "nbformat": 4,
 "nbformat_minor": 4
}
